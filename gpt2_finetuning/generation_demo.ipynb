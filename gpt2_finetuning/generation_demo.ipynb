{
 "cells": [
  {
   "cell_type": "code",
   "execution_count": 1,
   "id": "28b816bb-1c65-44ec-84fb-bf6f1958e96e",
   "metadata": {},
   "outputs": [],
   "source": [
    "from transformers import GPT2Tokenizer, GPT2LMHeadModel"
   ]
  },
  {
   "cell_type": "code",
   "execution_count": 2,
   "id": "d7f8bf6b-3daa-40da-ace8-610e1298d083",
   "metadata": {},
   "outputs": [],
   "source": [
    "# load from the local file the fine tuned model\n",
    "tokenizer = GPT2Tokenizer.from_pretrained(\"gpt2_mail\")\n",
    "model = GPT2LMHeadModel.from_pretrained(\"gpt2_mail\")"
   ]
  },
  {
   "cell_type": "code",
   "execution_count": 3,
   "id": "098fb1ab-81e8-40e3-8f2c-ee7c7b9b1d02",
   "metadata": {},
   "outputs": [],
   "source": [
    "def get_input_tensor(context, summary):\n",
    "    prompt = '<BOS> [CONTEXT] ' + context + ' [SUMMARY] ' + summary + '[MAIL] '\n",
    "    return tokenizer.encode(prompt, return_tensors='pt')"
   ]
  },
  {
   "cell_type": "code",
   "execution_count": 4,
   "id": "c2460fde-b6ee-4068-a518-87cc2f390c72",
   "metadata": {},
   "outputs": [],
   "source": [
    "def get_decoded_output(input_tensor):\n",
    "    output = model.generate(input_tensor, \n",
    "                            max_length=200,\n",
    "                            num_beams=10, \n",
    "                            no_repeat_ngram_size=2, \n",
    "                            early_stopping=True)\n",
    "    \n",
    "    output = tokenizer.decode(output[0], skip_special_tokens=True)\n",
    "    return output[output.find('[MAIL]')+7:]"
   ]
  },
  {
   "cell_type": "code",
   "execution_count": 6,
   "id": "2dc1fbb9-d857-45bd-aaad-d74cd0fa5dec",
   "metadata": {},
   "outputs": [
    {
     "name": "stderr",
     "output_type": "stream",
     "text": [
      "Setting `pad_token_id` to `eos_token_id`:50256 for open-end generation.\n"
     ]
    },
    {
     "name": "stdout",
     "output_type": "stream",
     "text": [
      "Output:\n",
      "\n",
      " [jay@peepo.com] &gt; Could you please confirm that the meeting is tentatively scheduled for 6 and 7 October in Orlando, Florida? &lt;http://www.pewforum.org/data/2004/oct/2000/summit-oct-2000-final.html#&quot; would it be acceptable to try and meet at least 7 days in advance to get an update on the status of the draft before planning a face-to meeting? (This would mean that we would have to go through the phone calls and meetings, which could take up to an hour or so, before we could formally respond to your e-mail) -- Charles McCathieNevile http://\n"
     ]
    }
   ],
   "source": [
    "context = 'Hi,\\n I would like to know if you are available tomorrow for a meeting. \\nKind regards'\n",
    "summary = 'Not available tomorrow.\\n Friday at 10 available. \\n Please confirm'\n",
    "\n",
    "prompt = get_input_tensor(context, summary)\n",
    "output = get_decoded_output(prompt)\n",
    "print(\"Output:\\n\\n\" + output)"
   ]
  },
  {
   "cell_type": "code",
   "execution_count": null,
   "id": "67e3ed56-1901-43e4-b52f-9f901926b46e",
   "metadata": {},
   "outputs": [],
   "source": []
  }
 ],
 "metadata": {
  "kernelspec": {
   "display_name": "Torch 1.9",
   "language": "python",
   "name": "torch19"
  },
  "language_info": {
   "codemirror_mode": {
    "name": "ipython",
    "version": 3
   },
   "file_extension": ".py",
   "mimetype": "text/x-python",
   "name": "python",
   "nbconvert_exporter": "python",
   "pygments_lexer": "ipython3",
   "version": "3.7.10"
  }
 },
 "nbformat": 4,
 "nbformat_minor": 5
}
